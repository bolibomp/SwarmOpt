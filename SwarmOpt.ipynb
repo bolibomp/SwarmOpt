{
  "nbformat": 4,
  "nbformat_minor": 0,
  "metadata": {
    "colab": {
      "name": "SwarmOpt.ipynb",
      "provenance": [],
      "collapsed_sections": []
    },
    "kernelspec": {
      "name": "python3",
      "display_name": "Python 3"
    },
    "language_info": {
      "name": "python"
    }
  },
  "cells": [
    {
      "cell_type": "markdown",
      "source": [
        "#Swarm Optimization\n",
        "\n",
        "This is a program from optimizing functions using swarm optimization. Swarm optimization is basically that you randomly initiate several \"solutions\" to your problem to create the swarm. Each \"solution\" in the swarm has a velocity that will determine where the “solution” will \"land\" the next iteration. The \"solution\" remembers its best location (in terms of the objective function) but can also so its neighbors best position. Its velocity is updated each time step based on this knowledge."
      ],
      "metadata": {
        "id": "AoJsTX9WiBfV"
      }
    },
    {
      "cell_type": "code",
      "execution_count": 79,
      "metadata": {
        "id": "1DuXtEWLA1f2"
      },
      "outputs": [],
      "source": [
        "import numpy as np\n",
        "import matplotlib.pyplot as plt\n",
        "from scipy.spatial import cKDTree\n",
        "import imageio"
      ]
    },
    {
      "cell_type": "markdown",
      "source": [
        "The objective function will be the Townsend function (modified) https://en.wikipedia.org/wiki/Test_functions_for_optimization"
      ],
      "metadata": {
        "id": "GaRNvOaKi_c3"
      }
    },
    {
      "cell_type": "code",
      "source": [
        "class Objective:\n",
        "  def __init__(self,dim,bounds,name,anal_sol,anal_obj,barrier_fac):\n",
        "    self.dim = dim\n",
        "    self.bounds = bounds\n",
        "    self.name = name\n",
        "    self.anal_sol = anal_sol\n",
        "    self.anal_obj = anal_obj\n",
        "    if barrier_fac == None:\n",
        "      self.barrier_fac = 0\n",
        "    else:\n",
        "      self.barrier_fac = barrier_fac\n",
        "  \n",
        "  def func(self, x):\n",
        "    t = np.arctan2(x[0],x[1])\n",
        "    constr = -(2*np.cos(t)-1/2*np.cos(2*t)-1/4*np.cos(3*t)-1/8*np.cos(4*t))**2 - (2*np.sin(t))**2 + x[0]**2 + x[1]**2\n",
        "    barrier = self.barrier_fac*(np.maximum(0,(constr)))**2\n",
        "    return -(np.cos((x[0]-0.1)*x[1]))**2-x[0]*np.sin(3*x[0]+x[1]) + barrier\n"
      ],
      "metadata": {
        "id": "OIG6PzlKBhL0"
      },
      "execution_count": 80,
      "outputs": []
    },
    {
      "cell_type": "code",
      "source": [
        "Obj = Objective(2,None,'Townsend function (modified)',[2.0052938,1.1944509],-2.0239884,1)"
      ],
      "metadata": {
        "id": "-SwPSjs4UxVy"
      },
      "execution_count": 81,
      "outputs": []
    },
    {
      "cell_type": "code",
      "source": [
        "class Particle:\n",
        "    def __init__(self):\n",
        "        self.velocity = np.random.uniform(-1,1, size = Obj.dim)\n",
        "        self.position = np.random.uniform(-5,5, size = Obj.dim)\n",
        "        self.pos_best = None\n",
        "        self.best_obj = np.inf\n",
        "        self.obj = None\n",
        "\n",
        "    def evaluate(self): #evaluate the particle using the objective function\n",
        "        self.obj = Obj.func(self.position)\n",
        "\n",
        "        if self.obj < self.best_obj: #check to see if the current position is an individual best\n",
        "            self.pos_best = self.position\n",
        "            self.best_obj = self.obj\n",
        "\n",
        "    # update new particle velocity\n",
        "    def update_velocity(self, pos_best_n, iter, max_iter, start_w = 0.9, end_w = 0.4): #pos_best_n is best pos of neighbour\n",
        "        w = np.linspace(start_w, end_w, max_iter, endpoint = True)\n",
        "        #weighting how much the particles should care for its own best solution vs its neighbors best solution\n",
        "        c1 = 1        # cognative constant\n",
        "        c2 = 1       # social constant\n",
        "\n",
        "        r1 = np.random.uniform(0,2)\n",
        "        r2 = np.random.uniform(0,2)\n",
        "        vel_cognitive = c1*r1*(self.pos_best - self.position)\n",
        "        vel_social = c2*r2*(pos_best_n - self.position)\n",
        "\n",
        "        self.velocity = w[iter]*self.velocity + vel_cognitive + vel_social\n",
        "        if np.linalg.norm(self.velocity)>2: #if the velocity is to big it will be shortend\n",
        "          self.velocity = 2*self.velocity/np.linalg.norm(self.velocity)\n",
        "\n",
        "    # update the particle position based off new velocity updates\n",
        "    def update_position(self, bounds=Obj.bounds):\n",
        "      self.position = self.position + self.velocity\n",
        "      \n",
        "      if bounds == None:\n",
        "        return self.position\n",
        "      else:\n",
        "        for i in range(Obj.dim):\n",
        "            self.position[i] = max(min(self.position[0],bounds[i][1]),bounds[i][0])\n",
        "        return self.position"
      ],
      "metadata": {
        "id": "c3_NGSF_BXIj"
      },
      "execution_count": 82,
      "outputs": []
    },
    {
      "cell_type": "code",
      "source": [
        "class Swarm():\n",
        "    def __init__(self,num_particles,maxiter, top):\n",
        "\n",
        "        #data to save during the simulation\n",
        "        self.top = top\n",
        "        self.best_p  = np.inf          \n",
        "        self.pos_best = []\n",
        "\n",
        "        self.sim_pos = []  \n",
        "        self.sim_vel = []  \n",
        "\n",
        "        swarm=[]\n",
        "        for i in range(num_particles): #initiate the swarm\n",
        "            swarm.append(Particle())\n",
        "\n",
        "        for i in range(maxiter): #evaluate all the particles\n",
        "          for j in range(num_particles):\n",
        "            swarm[j].evaluate()\n",
        "            if swarm[j].obj  < self.best_p:\n",
        "                self.best_p = swarm[j].obj \n",
        "                self.pos_best.append(swarm[j].position)\n",
        "            else:\n",
        "              self.pos_best.append(self.pos_best[-1])\n",
        "          \n",
        "          pos = []\n",
        "          obj = []\n",
        "          vel = []\n",
        "          for j in range(num_particles):\n",
        "            pos.append(swarm[j].position)\n",
        "            obj.append(swarm[j].best_obj)\n",
        "            vel.append(swarm[j].velocity)\n",
        "\n",
        "          self.sim_pos.append(pos)          \n",
        "          self.sim_vel.append(vel) \n",
        "\n",
        "          T = cKDTree(pos) #creating a tree for all the postions so to make it more easy to find a particles neighbours\n",
        "\n",
        "          for j in range(num_particles):\n",
        "            temp_value = np.inf\n",
        "            temp_pos = None\n",
        "            index = T.query(swarm[j].position,k=3)[-1]\n",
        "            for k in index:#checking witch neighbour (including itself) has the best solution in its memory\n",
        "              if obj[k] < temp_value:\n",
        "                temp_pos = pos[k]\n",
        "            \n",
        "            if self.top == 'Ring':#using the closest 2 particles\n",
        "              swarm[j].update_velocity(temp_pos,i,maxiter)\n",
        "            if self.top == 'Global':#using all the particles as neighbours\n",
        "              swarm[j].update_velocity(self.pos_best[-1],i,maxiter)\n",
        "            swarm[j].update_position()\n",
        "\n",
        "        # print final results\n",
        "        print('Found position: ', self.pos_best[-1])\n",
        "        print('Found objective: ', self.best_p)"
      ],
      "metadata": {
        "id": "gwGpIcpoeWW8"
      },
      "execution_count": 83,
      "outputs": []
    },
    {
      "cell_type": "code",
      "source": [
        "S = Swarm(10,200,'Global')\n",
        "print('Best known position: ',Obj.anal_sol)\n",
        "print('Best known objective: ',Obj.anal_obj)"
      ],
      "metadata": {
        "colab": {
          "base_uri": "https://localhost:8080/"
        },
        "id": "hG449rQpj2Rc",
        "outputId": "acf3e267-c49b-4961-c307-b08ec038d9d6"
      },
      "execution_count": 84,
      "outputs": [
        {
          "output_type": "stream",
          "name": "stdout",
          "text": [
            "Found position:  [2.07834782 1.27942569]\n",
            "Found objective:  -2.3758997791674754\n",
            "Best known position:  [2.0052938, 1.1944509]\n",
            "Best known objective:  -2.0239884\n"
          ]
        }
      ]
    },
    {
      "cell_type": "code",
      "source": [
        "for j in range(len(S.sim_pos)): #saving each iteration as a figure\n",
        "  r = 3\n",
        "  xlist = np.linspace(-r , r , 500)\n",
        "  ylist = np.linspace(-r , r , 500)\n",
        "\n",
        "  X, Y = np.meshgrid(xlist, ylist)\n",
        "\n",
        "  Z = Obj.func([X,Y])\n",
        "\n",
        "  fig,ax=plt.subplots(1,1)\n",
        "  cp = ax.contourf(X, Y, Z,levels = np.arange(-3,4,0.5))\n",
        "  fig.colorbar(cp) \n",
        "\n",
        "  x_coord = []\n",
        "  y_coord = []\n",
        "\n",
        "  for i in range(len(S.sim_pos[j])):\n",
        "    ax.plot(S.sim_pos[j][i][0],S.sim_pos[j][i][1],'ro', color = 'k')\n",
        "    ax.arrow(S.sim_pos[j][i][0],S.sim_pos[j][i][1],S.sim_vel[j][i][0],S.sim_vel[j][i][1], color = 'k', length_includes_head = True)\n",
        "    x_coord.append(S.sim_pos[j][i][0])\n",
        "    y_coord.append(S.sim_pos[j][i][1])\n",
        "    ax.set_title('Topology: '+str(S.top)+'\\n'+'Objective Space Iteration: '+str(j)+'/'+str(len(S.sim_pos)))\n",
        "\n",
        "  ax.plot(Obj.anal_sol[0], Obj.anal_sol[1],'ro', color ='r', label ='Best solution')\n",
        "  ax.plot(S.pos_best[j][0], S.pos_best[j][1],'ro', color ='b', label ='Found solution')\n",
        "\n",
        "  rim = 0.2\n",
        "\n",
        "  ax.set_xlim(min(min(xlist),min(x_coord))-rim,max(max(xlist),max(x_coord))+rim)\n",
        "  ax.set_ylim(min(min(ylist),min(y_coord))-rim,max(max(ylist),max(y_coord))+rim)\n",
        "\n",
        "  ax.set_xlabel('x')\n",
        "  ax.set_ylabel('y')\n",
        "  ax.legend()\n",
        "  fig.savefig('{}.png'.format(j+1))\n",
        "  plt.close()"
      ],
      "metadata": {
        "id": "ja2_QbOEkoBr"
      },
      "execution_count": 85,
      "outputs": []
    },
    {
      "cell_type": "code",
      "source": [
        "png_list = ['{}.png'.format(i+1) for i in range(len(S.sim_pos))] #making a gif of all the figures\n",
        "with imageio.get_writer('mygif.gif', mode='I',duration=0.25) as writer:\n",
        "    for filename in png_list:\n",
        "        image = imageio.imread(filename)\n",
        "        writer.append_data(image)"
      ],
      "metadata": {
        "id": "mUbo4Nl-uIds"
      },
      "execution_count": 86,
      "outputs": []
    }
  ]
}